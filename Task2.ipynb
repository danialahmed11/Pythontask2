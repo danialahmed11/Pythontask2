{
 "cells": [
  {
   "cell_type": "markdown",
   "id": "fb162f76-827d-49e4-8aad-68b52e27ddb2",
   "metadata": {},
   "source": [
    "## Answer 1"
   ]
  },
  {
   "cell_type": "code",
   "execution_count": 2,
   "id": "7c06c0b2-ba56-4aa9-97fc-58a8170aceec",
   "metadata": {},
   "outputs": [
    {
     "name": "stdin",
     "output_type": "stream",
     "text": [
      "Enter your Age 25\n"
     ]
    },
    {
     "name": "stdout",
     "output_type": "stream",
     "text": [
      "You are adult\n"
     ]
    }
   ],
   "source": [
    "age = int (input(\"Enter your Age\"))\n",
    "if age>=0 and age<=13:\n",
    "    print(\"You are child\")\n",
    "elif age>=13 and age<=19:\n",
    "    print (\"You are teenager\")\n",
    "elif age>=20 and age<=64:\n",
    "    print(\"You are adult\")\n",
    "else:\n",
    "    print(\"You are senior\")"
   ]
  },
  {
   "cell_type": "markdown",
   "id": "1462712f-dfd2-44b5-a8a5-520613956fab",
   "metadata": {},
   "source": [
    "## Answer 2"
   ]
  },
  {
   "cell_type": "code",
   "execution_count": 4,
   "id": "03db0993-340c-4cff-9c19-baa30f5d713b",
   "metadata": {},
   "outputs": [
    {
     "name": "stdin",
     "output_type": "stream",
     "text": [
      "Enter your membership status premium\n",
      "Enter your purchase amount 30000\n"
     ]
    },
    {
     "name": "stdout",
     "output_type": "stream",
     "text": [
      "You are eligible for discount\n"
     ]
    }
   ],
   "source": [
    "MembershipStatus= str(input(\"Enter your membership status\"))\n",
    "Purchase_Amount= int(input(\"Enter your purchase amount\"))\n",
    "if (MembershipStatus==\"premium\" and Purchase_Amount>=1000): \n",
    "    print(\"You are eligible for discount\")\n",
    "elif (MembershipStatus==\"regular\" and Purchase_Amount>=2000):\n",
    "    print(\"You are eligible for discount\")\n",
    "else:\n",
    "    print(\"You are not eligible for discount\")\n",
    "    "
   ]
  },
  {
   "cell_type": "markdown",
   "id": "1216cbfb-1ec6-4a67-bcb1-820517da89c0",
   "metadata": {},
   "source": [
    "## Answer 3"
   ]
  },
  {
   "cell_type": "code",
   "execution_count": 5,
   "id": "9405b572-cf34-44fb-b2c3-2e1d01162eef",
   "metadata": {},
   "outputs": [
    {
     "name": "stdin",
     "output_type": "stream",
     "text": [
      "Enter your age:  20\n",
      "Are you Citizen? (yes/no)  yes\n",
      "Are you from a special region where voting is allowed from age 16? (yes/no):  no\n"
     ]
    },
    {
     "name": "stdout",
     "output_type": "stream",
     "text": [
      "Congratulations! you are eligible for vote\n"
     ]
    }
   ],
   "source": [
    "age=int(input(\"Enter your age: \"))\n",
    "Citizenship=str(input(\"Are you Citizen? (yes/no) \"))\n",
    "special_region = str(input(\"Are you from a special region where voting is allowed from age 16? (yes/no): \"))\n",
    "if (age>=18 and Citizenship==\"yes\"):\n",
    "    print(\"Congratulations! you are eligible for vote\")\n",
    "elif (age>=16 and Citizenship==\"citizen\" and special_region==\"yes\"):\n",
    "    print(\"Congratulations! you are eligible for vote\")\n",
    "else:\n",
    "    print(\"Sorry! You are not eligible for voting\")\n"
   ]
  },
  {
   "cell_type": "markdown",
   "id": "c7fc189d-aa23-4553-a622-8b9cea4f38f8",
   "metadata": {},
   "source": [
    "## Answer 4"
   ]
  },
  {
   "cell_type": "code",
   "execution_count": 6,
   "id": "cbcb3887-6934-4544-b64b-a2b13a6bc008",
   "metadata": {},
   "outputs": [
    {
     "name": "stdin",
     "output_type": "stream",
     "text": [
      "Enter employee performance: excellent\n",
      "Enter your service duration in years:  5\n"
     ]
    },
    {
     "name": "stdout",
     "output_type": "stream",
     "text": [
      "You are eligible for bonus\n"
     ]
    }
   ],
   "source": [
    "Employee_Performance=str(input(\"Enter employee performance:\"))\n",
    "Service_Duration=int(input(\"Enter your service duration in years: \"))\n",
    "if (Employee_Performance==\"excellent\" and Service_Duration>=5):\n",
    "    print(\"You are eligible for bonus\")\n",
    "elif (Employee_Performance==\"good\" and Service_Duration>=10):\n",
    "    print(\"You are eligible for bonus\")\n",
    "elif (Employee_Performance==\"satisfactory\" and Service_Duration>=15):\n",
    "    print(\"You are eligible for bonus\")\n",
    "else: \n",
    "    print (\"You are not eligible for bonus\")"
   ]
  },
  {
   "cell_type": "markdown",
   "id": "44098d28-57b0-4f90-9fa2-897ba6a2a44d",
   "metadata": {},
   "source": [
    "## Answer 5"
   ]
  },
  {
   "cell_type": "code",
   "execution_count": 7,
   "id": "950568d5-e113-4956-b215-82ac70983851",
   "metadata": {},
   "outputs": [
    {
     "name": "stdout",
     "output_type": "stream",
     "text": [
      "Text with underscores: I_m_learning_Python_programming?\n",
      "Number of underscores: 4\n",
      "Position of the first underscore: 1\n"
     ]
    }
   ],
   "source": [
    "text = \"I m learning Python programming?\"\n",
    "new_text = text.replace(\" \", \"_\")\n",
    "underscore_count = new_text.count(\"_\")\n",
    "first_underscore_pos = new_text.find(\"_\")\n",
    "print(\"Text with underscores:\", new_text)\n",
    "print(\"Number of underscores:\", underscore_count)\n",
    "print(\"Position of the first underscore:\", first_underscore_pos)"
   ]
  },
  {
   "cell_type": "markdown",
   "id": "1331d9cb-c940-444d-8e2a-8eff6d3ba519",
   "metadata": {},
   "source": [
    "## Answer 6"
   ]
  },
  {
   "cell_type": "code",
   "execution_count": 11,
   "id": "d9f9188e-1361-40e5-b059-94b0aeba33b2",
   "metadata": {},
   "outputs": [
    {
     "name": "stdin",
     "output_type": "stream",
     "text": [
      "Enter a string:  a b c d e f\n"
     ]
    },
    {
     "name": "stdout",
     "output_type": "stream",
     "text": [
      "All characters except the last 3: a b c d \n",
      "Every second character: abcdef\n"
     ]
    }
   ],
   "source": [
    "user_input = input(\"Enter a string: \")\n",
    "if len(user_input) >= 3:\n",
    "    print(\"All characters except the last 3:\", user_input[:-3])\n",
    "    print(\"Every second character:\", user_input[::2])\n",
    "else:\n",
    "    print(\"The string is too short to perform the operations.\")\n"
   ]
  },
  {
   "cell_type": "markdown",
   "id": "2b9657d3-a684-436a-8bab-0ed417cd88f3",
   "metadata": {},
   "source": [
    "## Answer 7"
   ]
  },
  {
   "cell_type": "code",
   "execution_count": 17,
   "id": "5ab69873-8b90-461f-b53d-b617c0711dce",
   "metadata": {},
   "outputs": [
    {
     "name": "stdout",
     "output_type": "stream",
     "text": [
      "['Python', 'Learning', 'Are', 'We', 'World,', 'Hello']\n"
     ]
    }
   ],
   "source": [
    "str = \"Hello World, We Are Learning Python\"\n",
    "text =str.split(\" \")\n",
    "text = text[-1::-1]\n",
    "print(text)\n"
   ]
  },
  {
   "cell_type": "markdown",
   "id": "2dbae4b4-59e6-4066-a118-97ccf9bba94d",
   "metadata": {},
   "source": [
    "## Answer 8"
   ]
  },
  {
   "cell_type": "code",
   "execution_count": 12,
   "id": "b4a3b15e-90c1-422e-8f86-0686e24f56dd",
   "metadata": {},
   "outputs": [
    {
     "name": "stdin",
     "output_type": "stream",
     "text": [
      "Enter the product code (e.g., 'SKU-12345-XYZ'):  SKU-12345-XYZ\n"
     ]
    },
    {
     "name": "stdout",
     "output_type": "stream",
     "text": [
      "Extracted number: 12345\n"
     ]
    }
   ],
   "source": [
    "product_code = input(\"Enter the product code (e.g., 'SKU-12345-XYZ'): \")\n",
    "if product_code.startswith(\"SKU-\") and product_code.endswith(\"-XYZ\"):\n",
    "    product_number = product_code[4:-4]  \n",
    "    print(f\"Extracted number: {product_number}\")\n",
    "else:\n",
    "    print(\"Invalid product code format.\")\n"
   ]
  },
  {
   "cell_type": "markdown",
   "id": "cd2beb73-1c95-404f-bb63-955edcf041f7",
   "metadata": {},
   "source": [
    "## Answer 9"
   ]
  },
  {
   "cell_type": "code",
   "execution_count": 13,
   "id": "53478470-25dc-4e63-8123-83e2d46484e7",
   "metadata": {},
   "outputs": [
    {
     "name": "stdin",
     "output_type": "stream",
     "text": [
      "Enter your password:  Danial12\n"
     ]
    },
    {
     "name": "stdout",
     "output_type": "stream",
     "text": [
      "The password contains uppercase characters.\n",
      "The password contains lowercase characters.\n",
      "The password does not contain spaces.\n",
      "The password does not contain special characters.\n"
     ]
    }
   ],
   "source": [
    "password = input(\"Enter your password: \")\n",
    "has_uppercase = False\n",
    "has_lowercase = False\n",
    "has_space = False\n",
    "has_special_character = False\n",
    "for char in password:\n",
    "    if 'A' <= char <= 'Z':  \n",
    "        has_uppercase = True\n",
    "    elif 'a' <= char <= 'z':  \n",
    "        has_lowercase = True\n",
    "    elif char == ' ':  \n",
    "        has_space = True\n",
    "    elif not ('A' <= char <= 'Z' or 'a' <= char <= 'z' or '0' <= char <= '9'):  # Check for special character\n",
    "        has_special_character = True\n",
    "if has_uppercase:\n",
    "    print(\"The password contains uppercase characters.\")\n",
    "else:\n",
    "    print(\"The password does not contain uppercase characters.\")\n",
    "\n",
    "if has_lowercase:\n",
    "    print(\"The password contains lowercase characters.\")\n",
    "else:\n",
    "    print(\"The password does not contain lowercase characters.\")\n",
    "\n",
    "if has_space:\n",
    "    print(\"The password contains spaces.\")\n",
    "else:\n",
    "    print(\"The password does not contain spaces.\")\n",
    "\n",
    "if has_special_character:\n",
    "    print(\"The password contains special characters.\")\n",
    "else:\n",
    "    print(\"The password does not contain special characters.\")\n",
    "\n"
   ]
  },
  {
   "cell_type": "markdown",
   "id": "ff7f9658-65f3-476e-a88e-f1d78c114aa6",
   "metadata": {},
   "source": [
    "## Answer 10"
   ]
  },
  {
   "cell_type": "code",
   "execution_count": 14,
   "id": "d3fe0a07-7828-4e11-9433-79230f4ac184",
   "metadata": {},
   "outputs": [
    {
     "name": "stdin",
     "output_type": "stream",
     "text": [
      "Enter a string:  My Name Is Danial\n"
     ]
    },
    {
     "name": "stdout",
     "output_type": "stream",
     "text": [
      "The longest word is: Danial\n"
     ]
    }
   ],
   "source": [
    "text = input(\"Enter a string: \")\n",
    "longest_word = \"\"\n",
    "current_word = \"\"\n",
    "max_length = 0\n",
    "for char in text:\n",
    "    if char != \" \":  # Build the current word until a space is encountered\n",
    "        current_word += char\n",
    "    else:\n",
    "        if len(current_word) > max_length:\n",
    "            longest_word = current_word\n",
    "            max_length = len(current_word)\n",
    "        current_word = \"\"  # Reset for the next word\n",
    "if len(current_word) > max_length:\n",
    "    longest_word = current_word\n",
    "if longest_word:\n",
    "    print(\"The longest word is:\", longest_word)\n",
    "else:\n",
    "    print(\"No words found in the input.\")\n"
   ]
  },
  {
   "cell_type": "code",
   "execution_count": null,
   "id": "f15d9d9f-97af-4d33-a694-b37743b49b27",
   "metadata": {},
   "outputs": [],
   "source": []
  }
 ],
 "metadata": {
  "kernelspec": {
   "display_name": "Python 3 (ipykernel)",
   "language": "python",
   "name": "python3"
  },
  "language_info": {
   "codemirror_mode": {
    "name": "ipython",
    "version": 3
   },
   "file_extension": ".py",
   "mimetype": "text/x-python",
   "name": "python",
   "nbconvert_exporter": "python",
   "pygments_lexer": "ipython3",
   "version": "3.12.7"
  }
 },
 "nbformat": 4,
 "nbformat_minor": 5
}
